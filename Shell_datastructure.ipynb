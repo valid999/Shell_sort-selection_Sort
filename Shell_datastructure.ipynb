{
 "cells": [
  {
   "cell_type": "code",
   "execution_count": null,
   "metadata": {},
   "outputs": [
    {
     "name": "stdout",
     "output_type": "stream",
     "text": [
      "[4, 9, 11, 17, 21, 25, 28, 29, 32]\n"
     ]
    }
   ],
   "source": [
    "def shell_sort(arr): \n",
    "    size = len(arr) \n",
    "    gap = size // 2 \n",
    "    \n",
    "    while gap > 0: \n",
    "        for i in range(gap, size): \n",
    "            anchor  = arr[i]\n",
    "            j = i \n",
    "            while j>= gap and arr[j-gap] > anchor: \n",
    "                arr[j] = arr[j-gap] # Swap the elements with each other \n",
    "                j -= gap \n",
    "            arr[j] = anchor  # made update for the entire list\n",
    "        gap = gap // 2  # Every time we reduce the gap by dividing  by 2 \n",
    "\n",
    "\n",
    "if __name__ == \"__main__\":\n",
    "    elements  = [21,28,29,17,4,25,11,32,9]\n",
    "    shell_sort(elements)\n",
    "    print(elements)"
   ]
  }
 ],
 "metadata": {
  "kernelspec": {
   "display_name": "base",
   "language": "python",
   "name": "python3"
  },
  "language_info": {
   "codemirror_mode": {
    "name": "ipython",
    "version": 3
   },
   "file_extension": ".py",
   "mimetype": "text/x-python",
   "name": "python",
   "nbconvert_exporter": "python",
   "pygments_lexer": "ipython3",
   "version": "3.11.5"
  }
 },
 "nbformat": 4,
 "nbformat_minor": 2
}
