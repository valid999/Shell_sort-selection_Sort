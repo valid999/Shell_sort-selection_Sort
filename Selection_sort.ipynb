{
 "cells": [
  {
   "cell_type": "markdown",
   "metadata": {},
   "source": [
    "# Selection_SortPython "
   ]
  },
  {
   "cell_type": "code",
   "execution_count": null,
   "metadata": {},
   "outputs": [
    {
     "name": "stdout",
     "output_type": "stream",
     "text": [
      "[2, 8, 12, 15, 23, 27, 53, 61, 78]\n"
     ]
    }
   ],
   "source": [
    "def find_minimum_element(arr): \n",
    "    min = 100000 \n",
    "    for i in range(len(arr)): \n",
    "        if arr[i] < min: \n",
    "            min = arr[i]\n",
    "    return min\n",
    "\n",
    "def selection_sort(arr): # requiring two nested loops \n",
    "    \n",
    "    size = len(arr)\n",
    "    for i in range(size): \n",
    "        min_index = i \n",
    "        for j in range(min_index+1, size): \n",
    "            if arr[j] < arr[min_index]: \n",
    "                min_index = j \n",
    "        \n",
    "        if i != min_index: \n",
    "            arr[i], arr[min_index] = arr[min_index], arr[i]\n",
    "    return arr\n",
    "\n",
    "\n",
    "\n",
    "if __name__ == \"__main__\": \n",
    "    elements = [78, 12, 15, 8, 2, 61, 53, 23, 27]\n",
    "    print(selection_sort(elements))\n",
    "    # print(elements)"
   ]
  },
  {
   "cell_type": "code",
   "execution_count": 10,
   "metadata": {},
   "outputs": [
    {
     "name": "stdout",
     "output_type": "stream",
     "text": [
      "Sorted array: [2, 8, 12, 15, 23, 27, 53, 61, 78]\n"
     ]
    }
   ],
   "source": [
    "# Recursice Selection Sort Code \n",
    "\n",
    "def recursive_selection_sort(arr, start=0): \n",
    "    # Base case: if start index reaches the end, array is sorted \n",
    "    if start >= len(arr) - 1: \n",
    "        return \n",
    "    \n",
    "    \n",
    "    # Find the index of the minimum element in the unsorted porti on \n",
    "    min_index  = start \n",
    "    for i in range(start + 1, len(arr)): \n",
    "        if arr[i] < arr[min_index]: \n",
    "            min_index  = i \n",
    "            \n",
    "            \n",
    "    # Swap the found minimum element with the first element of the unsorted portion \n",
    "    arr[start], arr[min_index] = arr[min_index], arr[start]\n",
    "    \n",
    "    # Recursive call to sort the rest of the array \n",
    "    recursive_selection_sort(arr, start + 1)\n",
    "    \n",
    "if __name__ == \"__main__\":\n",
    "    elements = [78, 12, 15, 8, 2, 61, 53, 23, 27]\n",
    "    recursive_selection_sort(elements)\n",
    "    print(\"Sorted array:\", elements)"
   ]
  }
 ],
 "metadata": {
  "kernelspec": {
   "display_name": "base",
   "language": "python",
   "name": "python3"
  },
  "language_info": {
   "codemirror_mode": {
    "name": "ipython",
    "version": 3
   },
   "file_extension": ".py",
   "mimetype": "text/x-python",
   "name": "python",
   "nbconvert_exporter": "python",
   "pygments_lexer": "ipython3",
   "version": "3.11.5"
  }
 },
 "nbformat": 4,
 "nbformat_minor": 2
}
