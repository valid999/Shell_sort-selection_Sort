{
 "cells": [
  {
   "cell_type": "code",
   "execution_count": 8,
   "metadata": {},
   "outputs": [
    {
     "name": "stdout",
     "output_type": "stream",
     "text": [
      "[1, 2, 6, 7, 9, 12, 17, 21, 23, 53, 61, 78, 89]\n",
      "[]\n",
      "[1, 4, 5, 9]\n",
      "[1, 3, 9, 12, 12, 34, 56, 234, 1300]\n",
      "[5]\n"
     ]
    }
   ],
   "source": [
    "# Implementisng shell_sort in data structure python \n",
    "def shell_sort(arr): \n",
    "    size  = len(arr)\n",
    "    gap = size//2 \n",
    "    \n",
    "    \n",
    "    while gap > 0: \n",
    "        for i in range(gap, size): \n",
    "            anchor = arr[i]\n",
    "            j = i \n",
    "            while j>=gap and arr[j-gap] > anchor:   \n",
    "                arr[j] = arr[j-gap]\n",
    "                j -= gap \n",
    "            arr[j] = anchor \n",
    "        gap = gap // 2\n",
    "\n",
    "\n",
    "\n",
    "\n",
    "def foo(arr): \n",
    "    size = len(arr)\n",
    "    gap = size // 2 \n",
    "    # gap = 3 \n",
    "    for i in range(gap, size): \n",
    "        anchor  = arr[i]\n",
    "        j = i \n",
    "        while j>=gap and arr[j-gap] > anchor: \n",
    "            arr[j] = arr[j-gap]\n",
    "            j -= gap \n",
    "        arr[j] = anchor\n",
    "\n",
    "\n",
    "if __name__ == \"__main__\": \n",
    "    tests = [\n",
    "        [89, 78, 61, 53, 23, 21, 17, 12, 9, 7, 6, 2, 1],\n",
    "        [],\n",
    "        [1,5,4,9],\n",
    "        [234,3,1,56,34,12,9,12,1300],\n",
    "        [5]\n",
    "    ]\n",
    "    \n",
    "    elements = [89,78,61,53,23,21,17,12,9,7,6,2,1]\n",
    "    for elements in tests: \n",
    "        shell_sort(elements)\n",
    "        print(elements)\n"
   ]
  },
  {
   "cell_type": "code",
   "execution_count": null,
   "metadata": {},
   "outputs": [],
   "source": [
    "\n"
   ]
  }
 ],
 "metadata": {
  "kernelspec": {
   "display_name": "base",
   "language": "python",
   "name": "python3"
  },
  "language_info": {
   "codemirror_mode": {
    "name": "ipython",
    "version": 3
   },
   "file_extension": ".py",
   "mimetype": "text/x-python",
   "name": "python",
   "nbconvert_exporter": "python",
   "pygments_lexer": "ipython3",
   "version": "3.11.5"
  }
 },
 "nbformat": 4,
 "nbformat_minor": 2
}
