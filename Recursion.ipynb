{
 "cells": [
  {
   "cell_type": "markdown",
   "metadata": {},
   "source": [
    "# Recursion example with data structure in python"
   ]
  },
  {
   "cell_type": "code",
   "execution_count": null,
   "metadata": {},
   "outputs": [
    {
     "name": "stdout",
     "output_type": "stream",
     "text": [
      "12\n"
     ]
    }
   ],
   "source": [
    "def fib(n): \n",
    "    if n==0 or n==1: \n",
    "        return n \n",
    "    \n",
    "    return n + fib(n-2)\n",
    "\n",
    "\n",
    "\n",
    "if __name__ == \"__main__\": \n",
    "    print(fib(6))"
   ]
  },
  {
   "cell_type": "code",
   "execution_count": 4,
   "metadata": {},
   "outputs": [
    {
     "name": "stdout",
     "output_type": "stream",
     "text": [
      "Factorial of 5: 120\n"
     ]
    }
   ],
   "source": [
    "# Factorial of a number \n",
    "\n",
    "def factorial(n): \n",
    "    # Base case: 0! and 1! are both 1 \n",
    "    if n <= 1: \n",
    "        return 1 \n",
    "    # return 1 \n",
    "    # Recursive case: n! = n * (n -1)!\n",
    "    return n * factorial(n -1)\n",
    "\n",
    "\n",
    "# Example usage \n",
    "print(\"Factorial of 5:\", factorial(5))"
   ]
  },
  {
   "cell_type": "code",
   "execution_count": 8,
   "metadata": {},
   "outputs": [
    {
     "name": "stdout",
     "output_type": "stream",
     "text": [
      "Fibonaccia of 5: 5\n"
     ]
    }
   ],
   "source": [
    "# Example 2: Fibonaccia Sequence \n",
    "\n",
    "def fibonaccia(n): \n",
    "    # Base cases: the first two numbers are 0 and 1 \n",
    "    if n == 0: \n",
    "        return 0 \n",
    "    elif n == 1: \n",
    "        return 1 \n",
    "    # Recursive case: F(n)  = F(n - 1) + F(n - 2)\n",
    "    return fibonaccia(n -1) + fibonaccia(n - 2)\n",
    "\n",
    "\n",
    "# Example usage \n",
    "print(\"Fibonaccia of 5:\", fibonaccia(5))"
   ]
  },
  {
   "cell_type": "code",
   "execution_count": 10,
   "metadata": {},
   "outputs": [
    {
     "name": "stdout",
     "output_type": "stream",
     "text": [
      "Sum of digits of 1234: 10\n"
     ]
    }
   ],
   "source": [
    "# Example 3: Sum of Digits of a number \n",
    "# This function finds the sum of all digits in a positive integer\n",
    "\n",
    "def sum_of_digits(n): \n",
    "    # Base case: if n is a single-digit number \n",
    "    if n < 10: \n",
    "        return n \n",
    "    # Recursive case: add the last digit to the sum of the remaning digits\n",
    "    return (n % 10)  + sum_of_digits(n // 10)\n",
    "\n",
    "# Example usage \n",
    "print(\"Sum of digits of 1234:\", sum_of_digits(1234))"
   ]
  },
  {
   "cell_type": "code",
   "execution_count": 12,
   "metadata": {},
   "outputs": [
    {
     "name": "stdout",
     "output_type": "stream",
     "text": [
      "4\n",
      "123\n"
     ]
    }
   ],
   "source": [
    "a = 1234 \n",
    "w = a % 10\n",
    "e = a // 10\n",
    "print(w)\n",
    "print(e)"
   ]
  },
  {
   "cell_type": "code",
   "execution_count": 13,
   "metadata": {},
   "outputs": [
    {
     "name": "stdout",
     "output_type": "stream",
     "text": [
      "2 to the power of 3: 8\n"
     ]
    }
   ],
   "source": [
    "# Example 4: Power Calculation \n",
    "# This function calculates the result of rasing a number to a power using recursion. \n",
    "\n",
    "def power(x, n): \n",
    "    # Base case: any number to the power of 0 is 1 \n",
    "    if n == 0: \n",
    "        return 1 \n",
    "    # Recursive case: x^n = x * x^(n-1)\n",
    "    return x * power(x, n-1)\n",
    "\n",
    "# Example usage\n",
    "print(\"2 to the power of 3:\", power(2, 3))"
   ]
  },
  {
   "cell_type": "code",
   "execution_count": null,
   "metadata": {},
   "outputs": [],
   "source": []
  }
 ],
 "metadata": {
  "kernelspec": {
   "display_name": "base",
   "language": "python",
   "name": "python3"
  },
  "language_info": {
   "codemirror_mode": {
    "name": "ipython",
    "version": 3
   },
   "file_extension": ".py",
   "mimetype": "text/x-python",
   "name": "python",
   "nbconvert_exporter": "python",
   "pygments_lexer": "ipython3",
   "version": "3.11.5"
  }
 },
 "nbformat": 4,
 "nbformat_minor": 2
}
